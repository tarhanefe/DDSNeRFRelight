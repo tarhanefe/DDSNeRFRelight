{
 "cells": [
  {
   "cell_type": "markdown",
   "id": "ac675ef3",
   "metadata": {},
   "source": [
    "# DreamCatalyst Diffusion Optimization Notebook\n",
    "This notebook runs the SDS/DDS/DWT-DDS optimization interactively using your model pipeline."
   ]
  },
  {
   "cell_type": "code",
   "execution_count": 1,
   "id": "eb0baae6",
   "metadata": {},
   "outputs": [],
   "source": [
    "# If needed, install dependencies\n",
    "# !pip install diffusers pytorch_wavelets transformers accelerate\n"
   ]
  },
  {
   "cell_type": "code",
   "execution_count": 2,
   "id": "ffe86880",
   "metadata": {},
   "outputs": [
    {
     "name": "stderr",
     "output_type": "stream",
     "text": [
      "The cache for model files in Transformers v4.22.0 has been updated. Migrating your old cache. This is a one-time only operation. You can interrupt this and resume the migration later on by calling `transformers.utils.move_cache()`.\n"
     ]
    },
    {
     "data": {
      "application/vnd.jupyter.widget-view+json": {
       "model_id": "0a38e5c01f60407a8696437ea6563460",
       "version_major": 2,
       "version_minor": 0
      },
      "text/plain": [
       "0it [00:00, ?it/s]"
      ]
     },
     "metadata": {},
     "output_type": "display_data"
    }
   ],
   "source": [
    "import os\n",
    "import torch\n",
    "import numpy as np\n",
    "from PIL import Image\n",
    "from diffusers import StableDiffusionPipeline\n",
    "from dc.utils_ import load_512\n",
    "from run2d import image_optimization  # Ensure run2d.py is in the same directory or module path\n"
   ]
  },
  {
   "cell_type": "code",
   "execution_count": 3,
   "id": "f28317d4",
   "metadata": {},
   "outputs": [],
   "source": [
    "# Set paths and parameters\n",
    "image_path = \"trial.jpg\"  # <-- Change to your image path\n",
    "source_prompt = \"a photo of two reflective spheres.\"\n",
    "target_prompt = \"a photo of two reflective red spheres.\"\n",
    "\n",
    "num_iters = 300\n",
    "guidance_scale = 7.5\n",
    "wavelet = \"db8\"\n",
    "J = 1\n",
    "use_dds = True\n",
    "dwt_dds = True\n",
    "keep_low = False\n",
    "keep_high = False\n",
    "disable_wavelet = False\n",
    "vis_method = \"linear\"\n",
    "vis_interval = 10\n",
    "save_interval = 50\n",
    "profiling_enabled = False\n",
    "results_dir = None  # will be auto-named\n"
   ]
  },
  {
   "cell_type": "code",
   "execution_count": 4,
   "id": "28bf95eb",
   "metadata": {},
   "outputs": [
    {
     "data": {
      "application/vnd.jupyter.widget-view+json": {
       "model_id": "7dc83de006114fd9ae2d1dfc03b43f1b",
       "version_major": 2,
       "version_minor": 0
      },
      "text/plain": [
       "model_index.json:   0%|          | 0.00/541 [00:00<?, ?B/s]"
      ]
     },
     "metadata": {},
     "output_type": "display_data"
    },
    {
     "data": {
      "application/vnd.jupyter.widget-view+json": {
       "model_id": "9e58c934d667418bbcd6007ba4e2eb48",
       "version_major": 2,
       "version_minor": 0
      },
      "text/plain": [
       "Fetching 15 files:   0%|          | 0/15 [00:00<?, ?it/s]"
      ]
     },
     "metadata": {},
     "output_type": "display_data"
    },
    {
     "data": {
      "application/vnd.jupyter.widget-view+json": {
       "model_id": "1e788ad07f524da49b17b9703ed62c6a",
       "version_major": 2,
       "version_minor": 0
      },
      "text/plain": [
       "safety_checker/config.json:   0%|          | 0.00/4.72k [00:00<?, ?B/s]"
      ]
     },
     "metadata": {},
     "output_type": "display_data"
    },
    {
     "data": {
      "application/vnd.jupyter.widget-view+json": {
       "model_id": "067e63c1572045baa7bb91296cad8539",
       "version_major": 2,
       "version_minor": 0
      },
      "text/plain": [
       "(…)ature_extractor/preprocessor_config.json:   0%|          | 0.00/342 [00:00<?, ?B/s]"
      ]
     },
     "metadata": {},
     "output_type": "display_data"
    },
    {
     "data": {
      "application/vnd.jupyter.widget-view+json": {
       "model_id": "cf95b466021d4a3fbc8114272c299360",
       "version_major": 2,
       "version_minor": 0
      },
      "text/plain": [
       "scheduler/scheduler_config.json:   0%|          | 0.00/308 [00:00<?, ?B/s]"
      ]
     },
     "metadata": {},
     "output_type": "display_data"
    },
    {
     "data": {
      "application/vnd.jupyter.widget-view+json": {
       "model_id": "cc5c3b502e234405b8933fefceeeaf6c",
       "version_major": 2,
       "version_minor": 0
      },
      "text/plain": [
       "text_encoder/config.json:   0%|          | 0.00/617 [00:00<?, ?B/s]"
      ]
     },
     "metadata": {},
     "output_type": "display_data"
    },
    {
     "data": {
      "application/vnd.jupyter.widget-view+json": {
       "model_id": "18d1ca5fbbc94ebca01018a3905fc11f",
       "version_major": 2,
       "version_minor": 0
      },
      "text/plain": [
       "safety_checker/model.safetensors:   0%|          | 0.00/1.22G [00:00<?, ?B/s]"
      ]
     },
     "metadata": {},
     "output_type": "display_data"
    },
    {
     "data": {
      "application/vnd.jupyter.widget-view+json": {
       "model_id": "d477a42b87884903869071bac6b94bc0",
       "version_major": 2,
       "version_minor": 0
      },
      "text/plain": [
       "tokenizer/merges.txt:   0%|          | 0.00/525k [00:00<?, ?B/s]"
      ]
     },
     "metadata": {},
     "output_type": "display_data"
    },
    {
     "data": {
      "application/vnd.jupyter.widget-view+json": {
       "model_id": "097bcfeb37c943b08393bacb2d152623",
       "version_major": 2,
       "version_minor": 0
      },
      "text/plain": [
       "tokenizer/special_tokens_map.json:   0%|          | 0.00/472 [00:00<?, ?B/s]"
      ]
     },
     "metadata": {},
     "output_type": "display_data"
    },
    {
     "data": {
      "application/vnd.jupyter.widget-view+json": {
       "model_id": "23d9141a43604d6a99922e23e4c0d929",
       "version_major": 2,
       "version_minor": 0
      },
      "text/plain": [
       "text_encoder/model.safetensors:   0%|          | 0.00/492M [00:00<?, ?B/s]"
      ]
     },
     "metadata": {},
     "output_type": "display_data"
    },
    {
     "data": {
      "application/vnd.jupyter.widget-view+json": {
       "model_id": "e2d9466bdafa4a478acd2cd4cc23e967",
       "version_major": 2,
       "version_minor": 0
      },
      "text/plain": [
       "unet/diffusion_pytorch_model.safetensors:   0%|          | 0.00/3.44G [00:00<?, ?B/s]"
      ]
     },
     "metadata": {},
     "output_type": "display_data"
    },
    {
     "data": {
      "application/vnd.jupyter.widget-view+json": {
       "model_id": "7cceaea0d42446b29b4dc0fadc2c26bc",
       "version_major": 2,
       "version_minor": 0
      },
      "text/plain": [
       "vae/config.json:   0%|          | 0.00/547 [00:00<?, ?B/s]"
      ]
     },
     "metadata": {},
     "output_type": "display_data"
    },
    {
     "data": {
      "application/vnd.jupyter.widget-view+json": {
       "model_id": "f4780a6c238a405494287885a7fc2392",
       "version_major": 2,
       "version_minor": 0
      },
      "text/plain": [
       "unet/config.json:   0%|          | 0.00/743 [00:00<?, ?B/s]"
      ]
     },
     "metadata": {},
     "output_type": "display_data"
    },
    {
     "data": {
      "application/vnd.jupyter.widget-view+json": {
       "model_id": "3f9aff14b7c74f51ad3d6cf87d5ed09f",
       "version_major": 2,
       "version_minor": 0
      },
      "text/plain": [
       "tokenizer/vocab.json:   0%|          | 0.00/1.06M [00:00<?, ?B/s]"
      ]
     },
     "metadata": {},
     "output_type": "display_data"
    },
    {
     "data": {
      "application/vnd.jupyter.widget-view+json": {
       "model_id": "38a1e845573245bba974d27f578c75ac",
       "version_major": 2,
       "version_minor": 0
      },
      "text/plain": [
       "vae/diffusion_pytorch_model.safetensors:   0%|          | 0.00/335M [00:00<?, ?B/s]"
      ]
     },
     "metadata": {},
     "output_type": "display_data"
    },
    {
     "data": {
      "application/vnd.jupyter.widget-view+json": {
       "model_id": "706c30591aae4235aeaf786d3ee0c676",
       "version_major": 2,
       "version_minor": 0
      },
      "text/plain": [
       "tokenizer/tokenizer_config.json:   0%|          | 0.00/806 [00:00<?, ?B/s]"
      ]
     },
     "metadata": {},
     "output_type": "display_data"
    },
    {
     "data": {
      "application/vnd.jupyter.widget-view+json": {
       "model_id": "71dc32c2f14642f786242dd923a861e4",
       "version_major": 2,
       "version_minor": 0
      },
      "text/plain": [
       "Loading pipeline components...:   0%|          | 0/7 [00:00<?, ?it/s]"
      ]
     },
     "metadata": {},
     "output_type": "display_data"
    },
    {
     "name": "stderr",
     "output_type": "stream",
     "text": [
      "`text_config_dict` is provided which will be used to initialize `CLIPTextConfig`. The value `text_config[\"id2label\"]` will be overriden.\n"
     ]
    }
   ],
   "source": [
    "device = torch.device(\"cuda\" if torch.cuda.is_available() else \"cpu\")\n",
    "model_id = \"runwayml/stable-diffusion-v1-5\"\n",
    "pipeline = StableDiffusionPipeline.from_pretrained(model_id).to(device)\n",
    "image = load_512(image_path)\n"
   ]
  },
  {
   "cell_type": "code",
   "execution_count": 5,
   "id": "071e6e43",
   "metadata": {},
   "outputs": [
    {
     "name": "stderr",
     "output_type": "stream",
     "text": [
      "/scratch/students/2025-spring-sp-tarhan/miniconda3/envs/dreamcatalyst/lib/python3.9/site-packages/diffusers/configuration_utils.py:139: FutureWarning: Accessing config attribute `prediction_type` directly via 'PNDMScheduler' object attribute is deprecated. Please access 'prediction_type' over 'PNDMScheduler's config object instead, e.g. 'scheduler.config.prediction_type'.\n",
      "  deprecate(\"direct config name access\", \"1.0.0\", deprecation_message, standard_warn=False)\n"
     ]
    },
    {
     "name": "stdout",
     "output_type": "stream",
     "text": [
      "==> use dds: True\n",
      "==> source prompt: a photo of two reflective spheres., target prompt: a photo of two reflective red spheres.\n",
      "==> using wavelet db8 with J=1\n",
      "==> Visualization method: linear, interval: 10\n",
      "\n",
      "================================================================================\n",
      "IMAGE OPTIMIZATION SETTINGS\n",
      "================================================================================\n",
      "Source image: trial.jpg\n",
      "Source prompt: \"a photo of two reflective spheres.\"\n",
      "Target prompt: \"a photo of two reflective red spheres.\"\n",
      "Method: DDS+DWT\n",
      "Guidance scale: 7.5\n",
      "Iterations: 300\n",
      "Wavelet type: db8\n",
      "Decomposition levels (J): 1\n",
      "Frequency preservation: None\n",
      "Output directory: output/trial_a_photo_of_two_reflective_red__20250422_140617\n",
      "Visualization: linear (every 10 iterations)\n",
      "================================================================================\n",
      "\n"
     ]
    },
    {
     "name": "stderr",
     "output_type": "stream",
     "text": [
      "Optimizing: 100%|█████████████| 300/300 [00:25<00:00, 11.72iter/s, loss=0.00878]\n"
     ]
    }
   ],
   "source": [
    "image_optimization(\n",
    "    pipe=pipeline,\n",
    "    image=image,\n",
    "    text_source=source_prompt,\n",
    "    text_target=target_prompt,\n",
    "    num_iters=num_iters,\n",
    "    gs=guidance_scale,\n",
    "    use_dds=use_dds,\n",
    "    dwt_dds=dwt_dds,\n",
    "    keep_low=keep_low,\n",
    "    keep_high=keep_high,\n",
    "    disable_wavelet=disable_wavelet,\n",
    "    wavelet=wavelet,\n",
    "    J=J,\n",
    "    seed=42,\n",
    "    results_dir=results_dir,\n",
    "    image_path=image_path,\n",
    "    vis_method=vis_method,\n",
    "    vis_interval=vis_interval,\n",
    "    save_interval=save_interval,\n",
    "    profiling_enabled=profiling_enabled\n",
    ")\n"
   ]
  },
  {
   "cell_type": "code",
   "execution_count": null,
   "id": "63f8d0e2-9f9e-4442-bb55-29662b9d796e",
   "metadata": {},
   "outputs": [],
   "source": []
  }
 ],
 "metadata": {
  "kernelspec": {
   "display_name": "Python (dreamcatalyst)",
   "language": "python",
   "name": "dreamcatalyst"
  },
  "language_info": {
   "codemirror_mode": {
    "name": "ipython",
    "version": 3
   },
   "file_extension": ".py",
   "mimetype": "text/x-python",
   "name": "python",
   "nbconvert_exporter": "python",
   "pygments_lexer": "ipython3",
   "version": "3.9.21"
  }
 },
 "nbformat": 4,
 "nbformat_minor": 5
}
