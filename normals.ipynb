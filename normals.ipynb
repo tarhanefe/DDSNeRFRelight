{
 "cells": [
  {
   "cell_type": "code",
   "execution_count": 7,
   "id": "820935cc-ec67-4fc8-80c8-bba9cf166105",
   "metadata": {},
   "outputs": [
    {
     "name": "stderr",
     "output_type": "stream",
     "text": [
      "Using cache found in /home/tarhan/.cache/torch/hub/hugoycj_DSINE-hub_main\n"
     ]
    }
   ],
   "source": [
    "import torch\n",
    "import cv2\n",
    "import numpy as np\n",
    "import os\n",
    "\n",
    "# Load the normal predictor model from torch hub\n",
    "normal_predictor = torch.hub.load(\"hugoycj/DSINE-hub\", \"DSINE\", trust_repo=True)\n",
    "pre_path = \"bear/n/\"\n",
    "for i in (os.listdir(\"bear/o\")):\n",
    "    if \"jpg\" in i:\n",
    "        # Load the input image using OpenCV\n",
    "        image = cv2.imread(\"bear/o/\" + i, cv2.IMREAD_COLOR)\n",
    "        h, w = image.shape[:2]\n",
    "        \n",
    "        # Use the model to infer the normal map from the input image\n",
    "        with torch.inference_mode():\n",
    "            normal = normal_predictor.infer_cv2(image)[0]  # Output shape: (H, W, 3)\n",
    "            normal = (normal + 1) / 2  # Convert values to the range [0, 1]\n",
    "        \n",
    "        # Convert the normal map to a displayable format\n",
    "        normal = (normal * 255).cpu().numpy().astype(np.uint8).transpose(1, 2, 0)\n",
    "        normal = cv2.cvtColor(normal, cv2.COLOR_RGB2BGR)\n",
    "        cv2.imwrite(pre_path + i, normal)\n"
   ]
  }
 ],
 "metadata": {
  "kernelspec": {
   "display_name": "ControlNet",
   "language": "python",
   "name": "control-net"
  },
  "language_info": {
   "codemirror_mode": {
    "name": "ipython",
    "version": 3
   },
   "file_extension": ".py",
   "mimetype": "text/x-python",
   "name": "python",
   "nbconvert_exporter": "python",
   "pygments_lexer": "ipython3",
   "version": "3.9.21"
  }
 },
 "nbformat": 4,
 "nbformat_minor": 5
}
