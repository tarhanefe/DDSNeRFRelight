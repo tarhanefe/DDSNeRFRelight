{
 "cells": [
  {
   "cell_type": "code",
   "execution_count": 5,
   "id": "820935cc-ec67-4fc8-80c8-bba9cf166105",
   "metadata": {},
   "outputs": [
    {
     "name": "stderr",
     "output_type": "stream",
     "text": [
      "Using cache found in /home/tarhan/.cache/torch/hub/hugoycj_DSINE-hub_main\n"
     ]
    }
   ],
   "source": [
    "import torch\n",
    "import cv2\n",
    "import numpy as np\n",
    "import os\n",
    "\n",
    "# Load the normal predictor model from torch hub\n",
    "normal_predictor = torch.hub.load(\"hugoycj/DSINE-hub\", \"DSINE\", trust_repo=True)\n",
    "\n",
    "for i in (os.listdir(\"data\"))\n",
    "    if \"jpg\" in i:\n",
    "        # Load the input image using OpenCV\n",
    "        image = cv2.imread(\"frame_00001.jpg\", cv2.IMREAD_COLOR)\n",
    "        h, w = image.shape[:2]\n",
    "        \n",
    "        # Use the model to infer the normal map from the input image\n",
    "        with torch.inference_mode():\n",
    "            normal = normal_predictor.infer_cv2(image)[0]  # Output shape: (H, W, 3)\n",
    "            normal = (normal + 1) / 2  # Convert values to the range [0, 1]\n",
    "        \n",
    "        # Convert the normal map to a displayable format\n",
    "        normal = (normal * 255).cpu().numpy().astype(np.uint8).transpose(1, 2, 0)\n",
    "        normal = cv2.cvtColor(normal, cv2.COLOR_RGB2BGR)\n",
    "        cv2.imwrite(i, normal)\n"
   ]
  },
  {
   "cell_type": "code",
   "execution_count": 7,
   "id": "e18d90e1-c695-4291-a589-14bbe262ae1b",
   "metadata": {},
   "outputs": [
    {
     "data": {
      "text/plain": [
       "True"
      ]
     },
     "execution_count": 7,
     "metadata": {},
     "output_type": "execute_result"
    }
   ],
   "source": []
  },
  {
   "cell_type": "code",
   "execution_count": 8,
   "id": "24ef8607-3b20-4169-afe1-95349ff80d2a",
   "metadata": {},
   "outputs": [
    {
     "data": {
      "text/plain": [
       "['frame_00015.jpg',\n",
       " 'frame_00028.jpg',\n",
       " 'frame_00032.jpg',\n",
       " 'frame_00014.jpg',\n",
       " 'frame_00029.jpg',\n",
       " 'frame_00033.jpg',\n",
       " 'frame_00030.jpg',\n",
       " 'frame_00017.jpg',\n",
       " 'frame_00031.jpg',\n",
       " 'frame_00016.jpg',\n",
       " 'frame_00036.jpg',\n",
       " 'frame_00011.jpg',\n",
       " 'frame_00037.jpg',\n",
       " '.ipynb_checkpoints',\n",
       " 'frame_00010.jpg',\n",
       " 'frame_00009.jpg',\n",
       " 'frame_00013.jpg',\n",
       " 'frame_00034.jpg',\n",
       " 'frame_00008.jpg',\n",
       " 'frame_00012.jpg',\n",
       " 'frame_00035.jpg',\n",
       " 'frame_00027.jpg',\n",
       " 'frame_00001.jpg',\n",
       " 'frame_00026.jpg',\n",
       " 'frame_00025.jpg',\n",
       " 'frame_00018.jpg',\n",
       " 'frame_00002.jpg',\n",
       " 'frame_00024.jpg',\n",
       " 'frame_00019.jpg',\n",
       " 'frame_00003.jpg',\n",
       " 'frame_00039.jpg',\n",
       " 'frame_00023.jpg',\n",
       " 'frame_00004.jpg',\n",
       " 'frame_00038.jpg',\n",
       " 'frame_00022.jpg',\n",
       " 'frame_00005.jpg',\n",
       " 'frame_00006.jpg',\n",
       " 'frame_00021.jpg',\n",
       " 'frame_00007.jpg',\n",
       " 'frame_00020.jpg',\n",
       " 'frame_00066.jpg',\n",
       " 'frame_00087.jpg',\n",
       " 'frame_00041.jpg',\n",
       " 'frame_00067.jpg',\n",
       " 'frame_00086.jpg',\n",
       " 'frame_00040.jpg',\n",
       " 'frame_00043.jpg',\n",
       " 'frame_00059.jpg',\n",
       " 'frame_00064.jpg',\n",
       " 'frame_00085.jpg',\n",
       " 'frame_00042.jpg',\n",
       " 'frame_00058.jpg',\n",
       " 'frame_00065.jpg',\n",
       " 'frame_00084.jpg',\n",
       " 'frame_00045.jpg',\n",
       " 'frame_00062.jpg',\n",
       " 'frame_00083.jpg',\n",
       " 'frame_00078.jpg',\n",
       " 'frame_00044.jpg',\n",
       " 'frame_00063.jpg',\n",
       " 'frame_00082.jpg',\n",
       " 'frame_00079.jpg',\n",
       " 'frame_00060.jpg',\n",
       " 'frame_00081.jpg',\n",
       " 'frame_00047.jpg',\n",
       " 'frame_00061.jpg',\n",
       " 'frame_00080.jpg',\n",
       " 'frame_00046.jpg',\n",
       " 'frame_00073.jpg',\n",
       " 'frame_00092.jpg',\n",
       " 'frame_00088.jpg',\n",
       " 'frame_00069.jpg',\n",
       " 'frame_00054.jpg',\n",
       " 'frame_00072.jpg',\n",
       " 'frame_00093.jpg',\n",
       " 'frame_00089.jpg',\n",
       " 'frame_00068.jpg',\n",
       " 'frame_00055.jpg',\n",
       " 'frame_00056.jpg',\n",
       " 'frame_00071.jpg',\n",
       " 'frame_00090.jpg',\n",
       " 'frame_00057.jpg',\n",
       " 'frame_00070.jpg',\n",
       " 'frame_00091.jpg',\n",
       " 'frame_00050.jpg',\n",
       " 'frame_00077.jpg',\n",
       " 'frame_00096.jpg',\n",
       " 'frame_00051.jpg',\n",
       " 'frame_00076.jpg',\n",
       " 'frame_00075.jpg',\n",
       " 'frame_00094.jpg',\n",
       " 'frame_00052.jpg',\n",
       " 'frame_00048.jpg',\n",
       " 'frame_00074.jpg',\n",
       " 'frame_00095.jpg',\n",
       " 'frame_00053.jpg',\n",
       " 'frame_00049.jpg']"
      ]
     },
     "execution_count": 8,
     "metadata": {},
     "output_type": "execute_result"
    }
   ],
   "source": [
    "os.listdir(\"data\")"
   ]
  },
  {
   "cell_type": "code",
   "execution_count": null,
   "id": "ebaf9313-4e78-44cf-a254-a08b5ed12ff3",
   "metadata": {},
   "outputs": [],
   "source": []
  }
 ],
 "metadata": {
  "kernelspec": {
   "display_name": "Python (control-net)",
   "language": "python",
   "name": "control-net"
  },
  "language_info": {
   "codemirror_mode": {
    "name": "ipython",
    "version": 3
   },
   "file_extension": ".py",
   "mimetype": "text/x-python",
   "name": "python",
   "nbconvert_exporter": "python",
   "pygments_lexer": "ipython3",
   "version": "3.9.21"
  }
 },
 "nbformat": 4,
 "nbformat_minor": 5
}
